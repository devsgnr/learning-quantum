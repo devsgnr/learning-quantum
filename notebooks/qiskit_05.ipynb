{
 "cells": [
  {
   "attachments": {},
   "cell_type": "markdown",
   "metadata": {},
   "source": [
    "### Training Parameterized Quantum Circuits"
   ]
  },
  {
   "cell_type": "code",
   "execution_count": 164,
   "metadata": {},
   "outputs": [],
   "source": [
    "#Training Parameterized Quantum Circuits\n",
    "from qiskit.circuit.library import RealAmplitudes"
   ]
  },
  {
   "cell_type": "code",
   "execution_count": 165,
   "metadata": {},
   "outputs": [],
   "source": [
    "anstaz = RealAmplitudes(num_qubits=2, reps=1, insert_barriers=True).decompose()"
   ]
  },
  {
   "cell_type": "code",
   "execution_count": 166,
   "metadata": {},
   "outputs": [
    {
     "data": {
      "image/png": "[encoded data removed]",
      "text/plain": [
       "<Figure size 538.128x200.667 with 1 Axes>"
      ]
     },
     "execution_count": 166,
     "metadata": {},
     "output_type": "execute_result"
    }
   ],
   "source": [
    "anstaz.draw('mpl')"
   ]
  },
  {
   "attachments": {},
   "cell_type": "markdown",
   "metadata": {},
   "source": [
    "#### __Finite Difference Gradient__"
   ]
  },
  {
   "cell_type": "code",
   "execution_count": 167,
   "metadata": {},
   "outputs": [],
   "source": [
    "from qiskit.opflow import Z, I\n",
    "\n",
    "hamiltonian = Z ^ Z"
   ]
  },
  {
   "cell_type": "code",
   "execution_count": 168,
   "metadata": {},
   "outputs": [],
   "source": [
    "from qiskit.opflow import StateFn, PauliExpectation\n",
    "\n",
    "expectation = StateFn(hamiltonian, is_measurement=True) @ StateFn(anstaz)\n",
    "pauli_expectation = PauliExpectation().convert(expectation)"
   ]
  },
  {
   "cell_type": "code",
   "execution_count": 169,
   "metadata": {},
   "outputs": [],
   "source": [
    "from qiskit import Aer\n",
    "from qiskit.utils import QuantumInstance\n",
    "from qiskit.opflow import CircuitSampler\n",
    "\n",
    "import numpy as np\n",
    "\n",
    "quantum_instance = QuantumInstance(\n",
    "    Aer.get_backend(\n",
    "        'qasm_simulator',\n",
    "        shots = 8192, \n",
    "        seed_simulator = 2718,\n",
    "        seed_transpiler = 2718\n",
    "    )\n",
    ")\n",
    "\n",
    "sampler = CircuitSampler(quantum_instance)"
   ]
  },
  {
   "cell_type": "code",
   "execution_count": 170,
   "metadata": {},
   "outputs": [],
   "source": [
    "def evaluate_expectation(theta):\n",
    "    value_dict = dict(zip(anstaz.parameters, theta))\n",
    "    result = sampler.convert(pauli_expectation, params=value_dict).eval()\n",
    "    return np.real(result)"
   ]
  },
  {
   "cell_type": "code",
   "execution_count": 171,
   "metadata": {},
   "outputs": [],
   "source": [
    "point = np.random.random(anstaz.num_parameters)\n",
    "INDEX = 2"
   ]
  },
  {
   "cell_type": "code",
   "execution_count": 172,
   "metadata": {},
   "outputs": [],
   "source": [
    "EPS = 0.2\n",
    "\n",
    "e_i = np.identity(point.size)[:, INDEX]\n",
    "\n",
    "plus = point + EPS * e_i\n",
    "minus = point - EPS * e_i"
   ]
  },
  {
   "cell_type": "code",
   "execution_count": 173,
   "metadata": {},
   "outputs": [
    {
     "name": "stdout",
     "output_type": "stream",
     "text": [
      "-0.21484375000000028\n"
     ]
    }
   ],
   "source": [
    "final_difference = (evaluate_expectation(plus) - evaluate_expectation(minus)) / (2 * EPS)\n",
    "print(final_difference)"
   ]
  },
  {
   "attachments": {},
   "cell_type": "markdown",
   "metadata": {},
   "source": [
    "Doing what's above using `Gradient`"
   ]
  },
  {
   "cell_type": "code",
   "execution_count": 174,
   "metadata": {},
   "outputs": [
    {
     "name": "stdout",
     "output_type": "stream",
     "text": [
      "SummedOp([\n",
      "  2.5 * ComposedOp([\n",
      "    OperatorMeasurement(ZZ),\n",
      "    CircuitStateFn(\n",
      "         ┌──────────┐ ░       ░ ┌────────────────┐\n",
      "    q_0: ┤ Ry(θ[0]) ├─░───■───░─┤ Ry(θ[2] + 0.2) ├\n",
      "         ├──────────┤ ░ ┌─┴─┐ ░ └──┬──────────┬──┘\n",
      "    q_1: ┤ Ry(θ[1]) ├─░─┤ X ├─░────┤ Ry(θ[3]) ├───\n",
      "         └──────────┘ ░ └───┘ ░    └──────────┘   \n",
      "    )\n",
      "  ]),\n",
      "  -2.5 * ComposedOp([\n",
      "    OperatorMeasurement(ZZ),\n",
      "    CircuitStateFn(\n",
      "         ┌──────────┐ ░       ░ ┌────────────────┐\n",
      "    q_0: ┤ Ry(θ[0]) ├─░───■───░─┤ Ry(θ[2] - 0.2) ├\n",
      "         ├──────────┤ ░ ┌─┴─┐ ░ └──┬──────────┬──┘\n",
      "    q_1: ┤ Ry(θ[1]) ├─░─┤ X ├─░────┤ Ry(θ[3]) ├───\n",
      "         └──────────┘ ░ └───┘ ░    └──────────┘   \n",
      "    )\n",
      "  ])\n",
      "])\n"
     ]
    },
    {
     "data": {
      "text/plain": [
       "-0.15136718749999978"
      ]
     },
     "execution_count": 174,
     "metadata": {},
     "output_type": "execute_result"
    }
   ],
   "source": [
    "from qiskit.opflow import Gradient\n",
    "\n",
    "shifter = Gradient('fin_diff', analytic=False, epsilon=EPS)\n",
    "grad = shifter.convert(expectation, params=anstaz.parameters[INDEX])\n",
    "print(grad)\n",
    "\n",
    "value_dict = dict(zip(anstaz.parameters, point))\n",
    "sampler.convert(grad, value_dict).eval().real"
   ]
  },
  {
   "attachments": {},
   "cell_type": "markdown",
   "metadata": {},
   "source": [
    "#### __Analytic Gradient__"
   ]
  },
  {
   "cell_type": "markdown",
   "metadata": {},
   "source": [
    "Using `Gradient`"
   ]
  },
  {
   "cell_type": "code",
   "execution_count": 178,
   "metadata": {},
   "outputs": [
    {
     "data": {
      "text/plain": [
       "-0.1220703125"
      ]
     },
     "execution_count": 178,
     "metadata": {},
     "output_type": "execute_result"
    }
   ],
   "source": [
    "shift = Gradient() #parameter shifter by default\n",
    "gradient = shift.convert(expectation, params=anstaz.parameters[INDEX])\n",
    "sampler.convert(gradient, value_dict).eval().real"
   ]
  }
 ],
 "metadata": {
  "kernelspec": {
   "display_name": "qiskit",
   "language": "python",
   "name": "python3"
  },
  "language_info": {
   "codemirror_mode": {
    "name": "ipython",
    "version": 3
   },
   "file_extension": ".py",
   "mimetype": "text/x-python",
   "name": "python",
   "nbconvert_exporter": "python",
   "pygments_lexer": "ipython3",
   "version": "3.9.12"
  },
  "orig_nbformat": 4,
  "vscode": {
   "interpreter": {
    "hash": "ca0dba828405ffe2bde4ac96baa8364d4c4cb00a7718987078815c8929e96082"
   }
  }
 },
 "nbformat": 4,
 "nbformat_minor": 2
}
